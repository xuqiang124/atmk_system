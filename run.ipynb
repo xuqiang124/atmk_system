{
 "cells": [
  {
   "cell_type": "code",
   "execution_count": 1,
   "metadata": {},
   "outputs": [
    {
     "name": "stdout",
     "output_type": "stream",
     "text": [
      "/home/dzq/k12/atmk_system-master/MathByte\n"
     ]
    }
   ],
   "source": [
    "cd MathByte\n"
   ]
  },
  {
   "cell_type": "code",
   "execution_count": null,
   "metadata": {},
   "outputs": [],
   "source": [
    "# check the dataset\n",
    "import utils\n",
    "config = utils.read_config('config/config_GeoQA.yml')\n",
    "word2index, label2index, X, y = utils.load_data(\n",
    "    config.cache_file_h5py, config.cache_file_pickle)\n",
    "print(len(X), len(X[1]), len(label2index))\n",
    "print(config)\n",
    "print(label2index)\n",
    "print(\"--------------\")\n",
    "print(X[0])\n",
    "print(len(y[0]))\n",
    "print(len(word2index))"
   ]
  },
  {
   "cell_type": "code",
   "execution_count": null,
   "metadata": {},
   "outputs": [],
   "source": [
    "!python classification.py --config=config/config_GeoQA.yml --use_lcm=True --use_att=True "
   ]
  },
  {
   "cell_type": "code",
   "execution_count": null,
   "metadata": {},
   "outputs": [],
   "source": [
    "!python classification.py --config=config/config_cut.yml --use_lcm=True"
   ]
  },
  {
   "cell_type": "code",
   "execution_count": null,
   "metadata": {},
   "outputs": [],
   "source": [
    "!python classification.py --config=config/config_cut.yml --use_att=True"
   ]
  },
  {
   "cell_type": "code",
   "execution_count": null,
   "metadata": {},
   "outputs": [],
   "source": [
    "!python classification.py --config=config/config_cut.yml"
   ]
  }
 ],
 "metadata": {
  "kernelspec": {
   "display_name": "k12",
   "language": "python",
   "name": "python3"
  },
  "language_info": {
   "codemirror_mode": {
    "name": "ipython",
    "version": 3
   },
   "file_extension": ".py",
   "mimetype": "text/x-python",
   "name": "python",
   "nbconvert_exporter": "python",
   "pygments_lexer": "ipython3",
   "version": "3.9.18"
  }
 },
 "nbformat": 4,
 "nbformat_minor": 2
}
