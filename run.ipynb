{
 "cells": [
  {
   "cell_type": "code",
   "execution_count": null,
   "metadata": {},
   "outputs": [],
   "source": [
    "cd MathByte"
   ]
  },
  {
   "cell_type": "code",
   "execution_count": null,
   "metadata": {},
   "outputs": [],
   "source": [
    "# check the dataset\n",
    "import utils\n",
    "config = utils.read_config('config/config_DA20K.yml')\n",
    "label2index,input_ids,attention_mask,label_list = utils.load_data(\n",
    "        config.cache_file_h5py, config.cache_file_pickle)\n",
    "print(len(input_ids), len(input_ids[1]), len(label2index))\n",
    "print(config)\n",
    "print(label2index)\n",
    "print(\"--------------\")\n",
    "print(input_ids[0])\n",
    "print(len(label_list[0]))"
   ]
  },
  {
   "cell_type": "code",
   "execution_count": null,
   "metadata": {},
   "outputs": [],
   "source": [
    "!python classification.py --config=config/config_DA20K.yml --use_lcm=True --use_att=True"
   ]
  },
  {
   "cell_type": "code",
   "execution_count": null,
   "metadata": {},
   "outputs": [],
   "source": [
    "!python classification.py --config=config/config_DA20K.yml --use_lcm=True"
   ]
  },
  {
   "cell_type": "code",
   "execution_count": null,
   "metadata": {},
   "outputs": [],
   "source": [
    "!python classification4.py --config=config/config_DA20K.yml --use_att=True"
   ]
  },
  {
   "cell_type": "code",
   "execution_count": null,
   "metadata": {},
   "outputs": [],
   "source": [
    "!python classification.py --config=config/config_DA20K.yml"
   ]
  }
 ],
 "metadata": {
  "kernelspec": {
   "display_name": "k12",
   "language": "python",
   "name": "python3"
  },
  "language_info": {
   "codemirror_mode": {
    "name": "ipython",
    "version": 3
   },
   "file_extension": ".py",
   "mimetype": "text/x-python",
   "name": "python",
   "nbconvert_exporter": "python",
   "pygments_lexer": "ipython3",
   "version": "3.9.18"
  }
 },
 "nbformat": 4,
 "nbformat_minor": 2
}
